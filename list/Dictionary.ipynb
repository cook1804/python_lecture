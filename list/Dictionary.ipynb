{
 "cells": [
  {
   "cell_type": "markdown",
   "id": "be0f3e5f",
   "metadata": {},
   "source": [
    "# 딕셔너리"
   ]
  },
  {
   "cell_type": "markdown",
   "id": "7a4a0c6c",
   "metadata": {},
   "source": [
    "#### {Key1:Value1,Key2:Value2 ...}"
   ]
  },
  {
   "cell_type": "code",
   "execution_count": 2,
   "id": "3fa80d86",
   "metadata": {},
   "outputs": [
    {
     "data": {
      "text/plain": [
       "dict"
      ]
     },
     "execution_count": 2,
     "metadata": {},
     "output_type": "execute_result"
    }
   ],
   "source": [
    "dic = {}        # {} 빈 중괄호 두개를 쓰면 딕셔너리다. set 이 아니다. set은 set()로 한다. \n",
    "type(dic)"
   ]
  },
  {
   "cell_type": "code",
   "execution_count": 3,
   "id": "23fd4749",
   "metadata": {},
   "outputs": [
    {
     "data": {
      "text/plain": [
       "2"
      ]
     },
     "execution_count": 3,
     "metadata": {},
     "output_type": "execute_result"
    }
   ],
   "source": [
    "dic = {\"a\":\"b\",\"c\":\"d\"}\n",
    "len(dic)"
   ]
  },
  {
   "cell_type": "code",
   "execution_count": 4,
   "id": "774746ce",
   "metadata": {},
   "outputs": [],
   "source": [
    "dic = {'name':'pey', 'phone':'0119993323', 'birth': '1118'}"
   ]
  },
  {
   "cell_type": "markdown",
   "id": "bef08862",
   "metadata": {},
   "source": [
    "#### 딕셔너리 쌍 추가, 삭제하기"
   ]
  },
  {
   "cell_type": "code",
   "execution_count": 5,
   "id": "56fde580",
   "metadata": {},
   "outputs": [],
   "source": [
    "a = {1: 'a'}"
   ]
  },
  {
   "cell_type": "code",
   "execution_count": 6,
   "id": "600e0065",
   "metadata": {},
   "outputs": [
    {
     "data": {
      "text/plain": [
       "{1: 'a', 2: 'b'}"
      ]
     },
     "execution_count": 6,
     "metadata": {},
     "output_type": "execute_result"
    }
   ],
   "source": [
    "a[2] = 'b'\n",
    "a"
   ]
  },
  {
   "cell_type": "code",
   "execution_count": 9,
   "id": "0e6ded64",
   "metadata": {},
   "outputs": [
    {
     "data": {
      "text/plain": [
       "1"
      ]
     },
     "execution_count": 9,
     "metadata": {},
     "output_type": "execute_result"
    }
   ],
   "source": [
    "a[\"c\"] = 1\n",
    "a[\"c\"]"
   ]
  },
  {
   "cell_type": "code",
   "execution_count": 8,
   "id": "78fb65da",
   "metadata": {},
   "outputs": [
    {
     "data": {
      "text/plain": [
       "{1: 'a', 2: 'b', 'c': 1}"
      ]
     },
     "execution_count": 8,
     "metadata": {},
     "output_type": "execute_result"
    }
   ],
   "source": [
    "a"
   ]
  },
  {
   "cell_type": "code",
   "execution_count": 10,
   "id": "010c4af5",
   "metadata": {},
   "outputs": [],
   "source": [
    "a[3] = [1,2,3]"
   ]
  },
  {
   "cell_type": "code",
   "execution_count": 11,
   "id": "dd2d4786",
   "metadata": {},
   "outputs": [
    {
     "data": {
      "text/plain": [
       "{1: 'a', 2: 'b', 'c': 1, 3: [1, 2, 3]}"
      ]
     },
     "execution_count": 11,
     "metadata": {},
     "output_type": "execute_result"
    }
   ],
   "source": [
    "a"
   ]
  },
  {
   "cell_type": "code",
   "execution_count": 12,
   "id": "421a0f12",
   "metadata": {},
   "outputs": [],
   "source": [
    "a = {1: 'a', 2: 'b', 'c': 1, 3: [1, 2, 3]}\n",
    "del a[3]"
   ]
  },
  {
   "cell_type": "code",
   "execution_count": 13,
   "id": "9fecd050",
   "metadata": {},
   "outputs": [
    {
     "data": {
      "text/plain": [
       "{1: 'a', 2: 'b', 'c': 1}"
      ]
     },
     "execution_count": 13,
     "metadata": {},
     "output_type": "execute_result"
    }
   ],
   "source": [
    "a"
   ]
  },
  {
   "cell_type": "markdown",
   "id": "24b20b31",
   "metadata": {},
   "source": [
    "#### 딕셔너리에서 Key 사용해 Value 얻기"
   ]
  },
  {
   "cell_type": "code",
   "execution_count": 15,
   "id": "612499d6",
   "metadata": {},
   "outputs": [],
   "source": [
    "data_dic = {\"김연아\":\"피겨스케이팅\", \"류현진\":\"야구\", \"손흥민\":\"축구\", \"김민정\":\"파이썬\"}"
   ]
  },
  {
   "cell_type": "code",
   "execution_count": 16,
   "id": "dfe9cb98",
   "metadata": {},
   "outputs": [
    {
     "data": {
      "text/plain": [
       "'피겨스케이팅'"
      ]
     },
     "execution_count": 16,
     "metadata": {},
     "output_type": "execute_result"
    }
   ],
   "source": [
    "data_dic[\"김연아\"]"
   ]
  },
  {
   "cell_type": "markdown",
   "id": "945435a1",
   "metadata": {},
   "source": [
    "#### 딕셔너리 관련 함수들"
   ]
  },
  {
   "cell_type": "markdown",
   "id": "1ecdc09b",
   "metadata": {},
   "source": [
    "#### Key 리스트 만들기 (keys)"
   ]
  },
  {
   "cell_type": "code",
   "execution_count": 27,
   "id": "6ea2eae8",
   "metadata": {},
   "outputs": [
    {
     "data": {
      "text/plain": [
       "['김연아', '류현진', '손흥민', '김민정']"
      ]
     },
     "execution_count": 27,
     "metadata": {},
     "output_type": "execute_result"
    }
   ],
   "source": [
    "data_dic = {\"김연아\":\"피겨스케이팅\", \"류현진\":\"야구\", \"손흥민\":\"축구\", \"김민정\":\"파이썬\"}\n",
    "a = data_dic.keys()\n",
    "list(a)\n"
   ]
  },
  {
   "cell_type": "markdown",
   "id": "adc930da",
   "metadata": {},
   "source": [
    "#### Value 리스트 만들기(values)"
   ]
  },
  {
   "cell_type": "code",
   "execution_count": 28,
   "id": "97cf3a73",
   "metadata": {},
   "outputs": [
    {
     "data": {
      "text/plain": [
       "['피겨스케이팅', '야구', '축구', '파이썬']"
      ]
     },
     "execution_count": 28,
     "metadata": {},
     "output_type": "execute_result"
    }
   ],
   "source": [
    "list(data_dic.values())"
   ]
  },
  {
   "cell_type": "markdown",
   "id": "70616223",
   "metadata": {},
   "source": [
    "#### Key, Value 쌍 얻기(items)"
   ]
  },
  {
   "cell_type": "code",
   "execution_count": 37,
   "id": "365d97c0",
   "metadata": {},
   "outputs": [
    {
     "data": {
      "text/plain": [
       "dict_items([('김연아', '피겨스케이팅'), ('류현진', '야구'), ('손흥민', '축구'), ('김민정', '파이썬')])"
      ]
     },
     "execution_count": 37,
     "metadata": {},
     "output_type": "execute_result"
    }
   ],
   "source": [
    "data_dic = {\"김연아\":\"피겨스케이팅\", \"류현진\":\"야구\", \"손흥민\":\"축구\", \"김민정\":\"파이썬\"}\n",
    "data_dic.items()\n"
   ]
  },
  {
   "cell_type": "code",
   "execution_count": 34,
   "id": "1e95f9c6",
   "metadata": {},
   "outputs": [
    {
     "data": {
      "text/plain": [
       "('김연아', '피겨스케이팅')"
      ]
     },
     "execution_count": 34,
     "metadata": {},
     "output_type": "execute_result"
    }
   ],
   "source": [
    "data_dic = {\"김연아\":\"피겨스케이팅\", \"류현진\":\"야구\", \"손흥민\":\"축구\", \"김민정\":\"파이썬\"}\n",
    "list_data = list(data_dic.items())\n",
    "list_data[0]"
   ]
  },
  {
   "cell_type": "code",
   "execution_count": 38,
   "id": "5d0d4adb",
   "metadata": {},
   "outputs": [
    {
     "data": {
      "text/plain": [
       "tuple"
      ]
     },
     "execution_count": 38,
     "metadata": {},
     "output_type": "execute_result"
    }
   ],
   "source": [
    "type(list_data[0])"
   ]
  },
  {
   "cell_type": "markdown",
   "id": "38cb16fa",
   "metadata": {},
   "source": [
    "#### Key: Value 쌍 모두 지우기(clear)"
   ]
  },
  {
   "cell_type": "code",
   "execution_count": 41,
   "id": "150ccc55",
   "metadata": {},
   "outputs": [
    {
     "data": {
      "text/plain": [
       "{}"
      ]
     },
     "execution_count": 41,
     "metadata": {},
     "output_type": "execute_result"
    }
   ],
   "source": [
    "data_dic = {\"김연아\":\"피겨스케이팅\", \"류현진\":\"야구\", \"손흥민\":\"축구\", \"김민정\":\"파이썬\"}\n",
    "data_dic.clear()\n",
    "data_dic"
   ]
  },
  {
   "cell_type": "markdown",
   "id": "e190d56d",
   "metadata": {},
   "source": [
    "#### Key로 Value얻기(get)"
   ]
  },
  {
   "cell_type": "code",
   "execution_count": 42,
   "id": "3b9fda8d",
   "metadata": {},
   "outputs": [
    {
     "data": {
      "text/plain": [
       "'파이썬'"
      ]
     },
     "execution_count": 42,
     "metadata": {},
     "output_type": "execute_result"
    }
   ],
   "source": [
    "data_dic = {\"김연아\":\"피겨스케이팅\", \"류현진\":\"야구\", \"손흥민\":\"축구\", \"김민정\":\"파이썬\"}\n",
    "data_dic.get(\"김민정\")"
   ]
  },
  {
   "cell_type": "code",
   "execution_count": 43,
   "id": "1c63b758",
   "metadata": {},
   "outputs": [
    {
     "name": "stdout",
     "output_type": "stream",
     "text": [
      "None\n"
     ]
    }
   ],
   "source": [
    "d = data_dic.get(\"귀도반로섬\")\n",
    "print(d)"
   ]
  },
  {
   "cell_type": "code",
   "execution_count": 46,
   "id": "914bf572",
   "metadata": {},
   "outputs": [
    {
     "data": {
      "text/plain": [
       "{'김연아': '피겨스케이팅', '류현진': '야구', '손흥민': '축구', '김민정': '파이썬', '귀도반로섬': '게임왕'}"
      ]
     },
     "execution_count": 46,
     "metadata": {},
     "output_type": "execute_result"
    }
   ],
   "source": [
    "data_dic = {\"김연아\":\"피겨스케이팅\", \"류현진\":\"야구\", \"손흥민\":\"축구\", \"김민정\":\"파이썬\"}\n",
    "key_name = [\"김연아\",\"류현진\",\"손흥민\",\"김민정\",\"귀도반로섬\"]\n",
    "for name in key_name:\n",
    "    values = data_dic.get(name)\n",
    "    if values == None:\n",
    "        data_dic[name] = \"게임왕\"\n",
    "data_dic"
   ]
  },
  {
   "cell_type": "markdown",
   "id": "d1e930d0",
   "metadata": {},
   "source": [
    "#### 해당 Key가 딕셔너리 안에 있는지 조사하기(in)"
   ]
  },
  {
   "cell_type": "code",
   "execution_count": 47,
   "id": "da6972c3",
   "metadata": {},
   "outputs": [
    {
     "data": {
      "text/plain": [
       "True"
      ]
     },
     "execution_count": 47,
     "metadata": {},
     "output_type": "execute_result"
    }
   ],
   "source": [
    "\"류현진\" in data_dic"
   ]
  },
  {
   "cell_type": "code",
   "execution_count": 48,
   "id": "fff9f13e",
   "metadata": {},
   "outputs": [
    {
     "data": {
      "text/plain": [
       "False"
      ]
     },
     "execution_count": 48,
     "metadata": {},
     "output_type": "execute_result"
    }
   ],
   "source": [
    "1 in data_dic"
   ]
  },
  {
   "cell_type": "code",
   "execution_count": 49,
   "id": "bc80f3f2",
   "metadata": {},
   "outputs": [
    {
     "data": {
      "text/plain": [
       "True"
      ]
     },
     "execution_count": 49,
     "metadata": {},
     "output_type": "execute_result"
    }
   ],
   "source": [
    "1 not in data_dic"
   ]
  },
  {
   "cell_type": "code",
   "execution_count": 50,
   "id": "bc3b2709",
   "metadata": {},
   "outputs": [],
   "source": [
    "s1 = set([1, 2, 3])"
   ]
  },
  {
   "cell_type": "code",
   "execution_count": 51,
   "id": "da8cf14f",
   "metadata": {},
   "outputs": [],
   "source": [
    "s1.update((4, 5, 6))"
   ]
  },
  {
   "cell_type": "code",
   "execution_count": 52,
   "id": "66b1d4ca",
   "metadata": {},
   "outputs": [
    {
     "data": {
      "text/plain": [
       "{1, 2, 3, 4, 5, 6}"
      ]
     },
     "execution_count": 52,
     "metadata": {},
     "output_type": "execute_result"
    }
   ],
   "source": [
    "s1"
   ]
  },
  {
   "cell_type": "code",
   "execution_count": 53,
   "id": "a32ad2c0",
   "metadata": {},
   "outputs": [],
   "source": [
    "s1.update(['a','b','c'])"
   ]
  },
  {
   "cell_type": "code",
   "execution_count": 54,
   "id": "f50d914c",
   "metadata": {},
   "outputs": [
    {
     "data": {
      "text/plain": [
       "{1, 2, 3, 4, 5, 6, 'a', 'b', 'c'}"
      ]
     },
     "execution_count": 54,
     "metadata": {},
     "output_type": "execute_result"
    }
   ],
   "source": [
    "s1"
   ]
  },
  {
   "cell_type": "code",
   "execution_count": 55,
   "id": "e0371b64",
   "metadata": {},
   "outputs": [],
   "source": [
    "s1.update({\"김연아\":\"피겨스케이팅\", \"류현진\":\"야구\", \"손흥민\":\"축구\", \"김민정\":\"파이썬\"})"
   ]
  },
  {
   "cell_type": "code",
   "execution_count": 56,
   "id": "7c87bbfc",
   "metadata": {},
   "outputs": [
    {
     "data": {
      "text/plain": [
       "{1, 2, 3, 4, 5, 6, 'a', 'b', 'c', '김민정', '김연아', '류현진', '손흥민'}"
      ]
     },
     "execution_count": 56,
     "metadata": {},
     "output_type": "execute_result"
    }
   ],
   "source": [
    "s1"
   ]
  },
  {
   "cell_type": "code",
   "execution_count": null,
   "id": "e6c74597",
   "metadata": {},
   "outputs": [],
   "source": []
  }
 ],
 "metadata": {
  "kernelspec": {
   "display_name": "Python 3",
   "language": "python",
   "name": "python3"
  },
  "language_info": {
   "codemirror_mode": {
    "name": "ipython",
    "version": 3
   },
   "file_extension": ".py",
   "mimetype": "text/x-python",
   "name": "python",
   "nbconvert_exporter": "python",
   "pygments_lexer": "ipython3",
   "version": "3.8.9"
  }
 },
 "nbformat": 4,
 "nbformat_minor": 5
}
