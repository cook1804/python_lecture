{
 "cells": [
  {
   "cell_type": "code",
   "execution_count": 3,
   "id": "71545b59",
   "metadata": {},
   "outputs": [
    {
     "data": {
      "text/html": [
       "<style>.container { width:100% !important; }</style>"
      ],
      "text/plain": [
       "<IPython.core.display.HTML object>"
      ]
     },
     "metadata": {},
     "output_type": "display_data"
    }
   ],
   "source": [
    "from IPython.core.display import display, HTML\n",
    "display(HTML(\"<style>.container { width:100% !important; }</style>\"))"
   ]
  },
  {
   "cell_type": "code",
   "execution_count": 3,
   "id": "22690560",
   "metadata": {},
   "outputs": [
    {
     "data": {
      "text/plain": [
       "[11, 22, 33, 44, 55, 66]"
      ]
     },
     "execution_count": 3,
     "metadata": {},
     "output_type": "execute_result"
    }
   ],
   "source": [
    "n_list = [11, 22 ,33 ,44 ,55 ,66]\n",
    "n_list"
   ]
  },
  {
   "cell_type": "markdown",
   "id": "fcfe94ad",
   "metadata": {},
   "source": [
    "### 리스트의 인덱싱과 슬라이싱"
   ]
  },
  {
   "cell_type": "code",
   "execution_count": 4,
   "id": "a922eb73",
   "metadata": {},
   "outputs": [
    {
     "data": {
      "text/plain": [
       "4"
      ]
     },
     "execution_count": 4,
     "metadata": {},
     "output_type": "execute_result"
    }
   ],
   "source": [
    "a = [1, 2, 3]\n",
    "a[0] + a[2]\n"
   ]
  },
  {
   "cell_type": "markdown",
   "id": "5add2f5b",
   "metadata": {},
   "source": [
    "### 리스트 안에 리스트도 올 수 있다."
   ]
  },
  {
   "cell_type": "code",
   "execution_count": 5,
   "id": "559cbeda",
   "metadata": {},
   "outputs": [
    {
     "name": "stdout",
     "output_type": "stream",
     "text": [
      "c\n",
      "c\n"
     ]
    }
   ],
   "source": [
    "a = [1, 2, 3, ['a', 'b', 'c']]\n",
    "b = a[3]\n",
    "print(b[2])\n",
    "print(a[3][2])"
   ]
  },
  {
   "cell_type": "markdown",
   "id": "22242c9c",
   "metadata": {},
   "source": [
    "### 삼중 인덱스 해보기"
   ]
  },
  {
   "cell_type": "code",
   "execution_count": 6,
   "id": "a50872b4",
   "metadata": {},
   "outputs": [
    {
     "data": {
      "text/plain": [
       "'Life'"
      ]
     },
     "execution_count": 6,
     "metadata": {},
     "output_type": "execute_result"
    }
   ],
   "source": [
    "a = [1, 2, ['a', 'b', ['Life', 'is']]]\n",
    "a[2][2][0]"
   ]
  },
  {
   "cell_type": "markdown",
   "id": "2d397c08",
   "metadata": {},
   "source": [
    "#### 음수 인덱싱"
   ]
  },
  {
   "cell_type": "code",
   "execution_count": 8,
   "id": "317ea756",
   "metadata": {},
   "outputs": [
    {
     "data": {
      "text/plain": [
       "'a'"
      ]
     },
     "execution_count": 8,
     "metadata": {},
     "output_type": "execute_result"
    }
   ],
   "source": [
    "#'a'를 음수 인덱싱을 이용해서 찾는다.\n",
    "a = [1, 2, 3, ['a', 'b', 'c']]\n",
    "a[-1][-3]"
   ]
  },
  {
   "cell_type": "markdown",
   "id": "2997e0ff",
   "metadata": {},
   "source": [
    "#### 리스트의 슬라이싱"
   ]
  },
  {
   "cell_type": "code",
   "execution_count": 9,
   "id": "da2fbad5",
   "metadata": {},
   "outputs": [
    {
     "data": {
      "text/plain": [
       "[1, 2, 3]"
      ]
     },
     "execution_count": 9,
     "metadata": {},
     "output_type": "execute_result"
    }
   ],
   "source": [
    "a = [1, 2, 3, 4, 5]\n",
    "a[0:3]"
   ]
  },
  {
   "cell_type": "code",
   "execution_count": 10,
   "id": "3c24e99f",
   "metadata": {},
   "outputs": [
    {
     "name": "stdout",
     "output_type": "stream",
     "text": [
      "[1, 2] [3, 4, 5]\n"
     ]
    }
   ],
   "source": [
    "b = a[:2]\n",
    "c = a[2:]\n",
    "print(b,c)"
   ]
  },
  {
   "cell_type": "markdown",
   "id": "b75dc854",
   "metadata": {},
   "source": [
    "### 리스트의 음수 슬라이싱"
   ]
  },
  {
   "cell_type": "code",
   "execution_count": 16,
   "id": "1b217e58",
   "metadata": {},
   "outputs": [
    {
     "data": {
      "text/plain": [
       "[1, 2, 3]"
      ]
     },
     "execution_count": 16,
     "metadata": {},
     "output_type": "execute_result"
    }
   ],
   "source": [
    "a = [1, 2, 3, 4, 5]\n",
    "a[:-2]"
   ]
  },
  {
   "cell_type": "markdown",
   "id": "a30939e9",
   "metadata": {},
   "source": [
    "### 리스트 연산하기"
   ]
  },
  {
   "cell_type": "code",
   "execution_count": 17,
   "id": "7a812a45",
   "metadata": {},
   "outputs": [
    {
     "data": {
      "text/plain": [
       "[1, 2, 3, 4, 5, 6]"
      ]
     },
     "execution_count": 17,
     "metadata": {},
     "output_type": "execute_result"
    }
   ],
   "source": [
    "a = [1, 2, 3]\n",
    "b = [4, 5, 6]\n",
    "a + b"
   ]
  },
  {
   "cell_type": "code",
   "execution_count": 18,
   "id": "c2babf90",
   "metadata": {},
   "outputs": [
    {
     "data": {
      "text/plain": [
       "[4, 5, 6, 1, 2, 3]"
      ]
     },
     "execution_count": 18,
     "metadata": {},
     "output_type": "execute_result"
    }
   ],
   "source": [
    "b+a"
   ]
  },
  {
   "cell_type": "code",
   "execution_count": 19,
   "id": "94e272a9",
   "metadata": {},
   "outputs": [
    {
     "data": {
      "text/plain": [
       "[1, 2, 3, 1, 2, 3, 1, 2, 3]"
      ]
     },
     "execution_count": 19,
     "metadata": {},
     "output_type": "execute_result"
    }
   ],
   "source": [
    "#리스트 반복하기(*)\n",
    "a*3"
   ]
  },
  {
   "cell_type": "code",
   "execution_count": 21,
   "id": "6b4adebe",
   "metadata": {},
   "outputs": [
    {
     "data": {
      "text/plain": [
       "[1, 2, 3, 1, 2, 3, 4, 5, 6, 4, 5, 6, 4, 5, 6]"
      ]
     },
     "execution_count": 21,
     "metadata": {},
     "output_type": "execute_result"
    }
   ],
   "source": [
    "a*2 + b*3"
   ]
  },
  {
   "cell_type": "markdown",
   "id": "b9798f33",
   "metadata": {},
   "source": [
    "### 리스트 길이구하기"
   ]
  },
  {
   "cell_type": "code",
   "execution_count": 23,
   "id": "fd6e413e",
   "metadata": {},
   "outputs": [
    {
     "data": {
      "text/plain": [
       "3"
      ]
     },
     "execution_count": 23,
     "metadata": {},
     "output_type": "execute_result"
    }
   ],
   "source": [
    "a = [1, 2, 3]\n",
    "len(a)"
   ]
  },
  {
   "cell_type": "markdown",
   "id": "605acbed",
   "metadata": {},
   "source": [
    "### 리스트의 수정과 삭제"
   ]
  },
  {
   "cell_type": "code",
   "execution_count": 27,
   "id": "10535572",
   "metadata": {},
   "outputs": [
    {
     "data": {
      "text/plain": [
       "[1, 3]"
      ]
     },
     "execution_count": 27,
     "metadata": {},
     "output_type": "execute_result"
    }
   ],
   "source": [
    "#del 키워드 사용해 리스트 요소 삭제하기\n",
    "a = [ 1,2,3]\n",
    "del a[1]\n",
    "a"
   ]
  },
  {
   "cell_type": "code",
   "execution_count": 29,
   "id": "50dd7fce",
   "metadata": {},
   "outputs": [
    {
     "data": {
      "text/plain": [
       "[3, 4, 5]"
      ]
     },
     "execution_count": 29,
     "metadata": {},
     "output_type": "execute_result"
    }
   ],
   "source": [
    "a=[1,2,3,4,5]\n",
    "del a[:2]\n",
    "a"
   ]
  },
  {
   "cell_type": "markdown",
   "id": "0d08bf20",
   "metadata": {},
   "source": [
    "### 리스트 요소 제거"
   ]
  },
  {
   "cell_type": "code",
   "execution_count": 32,
   "id": "f2ba4323",
   "metadata": {},
   "outputs": [
    {
     "data": {
      "text/plain": [
       "['b', 'c']"
      ]
     },
     "execution_count": 32,
     "metadata": {},
     "output_type": "execute_result"
    }
   ],
   "source": [
    "#remove(x)는 리스트에서 첫번째로 나오는 x를 삭제하는 함수이다. \n",
    "a = ['a','b','c']\n",
    "a.remove('a')\n",
    "a"
   ]
  },
  {
   "cell_type": "code",
   "execution_count": 33,
   "id": "e6e244a6",
   "metadata": {},
   "outputs": [],
   "source": [
    "a = ['a','b',[1,2,3,4,5],'c']\n",
    "a[2].remove(4)"
   ]
  },
  {
   "cell_type": "code",
   "execution_count": 34,
   "id": "c3254f81",
   "metadata": {},
   "outputs": [
    {
     "data": {
      "text/plain": [
       "['a', 'b', [1, 2, 3, 5], 'c']"
      ]
     },
     "execution_count": 34,
     "metadata": {},
     "output_type": "execute_result"
    }
   ],
   "source": [
    "a"
   ]
  },
  {
   "cell_type": "markdown",
   "id": "c8d0918b",
   "metadata": {},
   "source": [
    "### 리스트 요소 끄집어내기(pop)"
   ]
  },
  {
   "cell_type": "code",
   "execution_count": 35,
   "id": "b9e1495e",
   "metadata": {},
   "outputs": [
    {
     "data": {
      "text/plain": [
       "3"
      ]
     },
     "execution_count": 35,
     "metadata": {},
     "output_type": "execute_result"
    }
   ],
   "source": [
    "a = [1, 2, 3]\n",
    "a.pop()"
   ]
  },
  {
   "cell_type": "code",
   "execution_count": 36,
   "id": "d0b60d75",
   "metadata": {},
   "outputs": [
    {
     "data": {
      "text/plain": [
       "2"
      ]
     },
     "execution_count": 36,
     "metadata": {},
     "output_type": "execute_result"
    }
   ],
   "source": [
    "a.pop(1)"
   ]
  },
  {
   "cell_type": "code",
   "execution_count": 37,
   "id": "8013f0e0",
   "metadata": {},
   "outputs": [
    {
     "ename": "TypeError",
     "evalue": "'list' object cannot be interpreted as an integer",
     "output_type": "error",
     "traceback": [
      "\u001b[1;31m---------------------------------------------------------------------------\u001b[0m",
      "\u001b[1;31mTypeError\u001b[0m                                 Traceback (most recent call last)",
      "\u001b[1;32m<ipython-input-37-760f79e2b1ed>\u001b[0m in \u001b[0;36m<module>\u001b[1;34m\u001b[0m\n\u001b[1;32m----> 1\u001b[1;33m \u001b[0ma\u001b[0m\u001b[1;33m.\u001b[0m\u001b[0mpop\u001b[0m\u001b[1;33m(\u001b[0m\u001b[0ma\u001b[0m\u001b[1;33m[\u001b[0m\u001b[1;33m:\u001b[0m\u001b[1;36m1\u001b[0m\u001b[1;33m]\u001b[0m\u001b[1;33m)\u001b[0m\u001b[1;33m\u001b[0m\u001b[1;33m\u001b[0m\u001b[0m\n\u001b[0m",
      "\u001b[1;31mTypeError\u001b[0m: 'list' object cannot be interpreted as an integer"
     ]
    }
   ],
   "source": [
    "a.pop(a[:1]) #이런것은 안된다."
   ]
  },
  {
   "cell_type": "markdown",
   "id": "d7dc8779",
   "metadata": {},
   "source": [
    "#### 리스트 추가"
   ]
  },
  {
   "cell_type": "code",
   "execution_count": 38,
   "id": "c6cf771c",
   "metadata": {},
   "outputs": [],
   "source": [
    "a = [1, 2, 3]\n",
    "a.append(4)"
   ]
  },
  {
   "cell_type": "code",
   "execution_count": 39,
   "id": "e37bd290",
   "metadata": {},
   "outputs": [
    {
     "data": {
      "text/plain": [
       "[1, 2, 3, 4]"
      ]
     },
     "execution_count": 39,
     "metadata": {},
     "output_type": "execute_result"
    }
   ],
   "source": [
    "a"
   ]
  },
  {
   "cell_type": "code",
   "execution_count": 42,
   "id": "817df293",
   "metadata": {},
   "outputs": [],
   "source": [
    "a.append((1,2))"
   ]
  },
  {
   "cell_type": "code",
   "execution_count": 43,
   "id": "c0b69c38",
   "metadata": {},
   "outputs": [
    {
     "data": {
      "text/plain": [
       "[1, 2, 3, 4, (1, 2)]"
      ]
     },
     "execution_count": 43,
     "metadata": {},
     "output_type": "execute_result"
    }
   ],
   "source": [
    "a"
   ]
  },
  {
   "cell_type": "code",
   "execution_count": 44,
   "id": "a8745d1a",
   "metadata": {},
   "outputs": [],
   "source": [
    "a.append({})"
   ]
  },
  {
   "cell_type": "code",
   "execution_count": 45,
   "id": "478bf345",
   "metadata": {},
   "outputs": [
    {
     "data": {
      "text/plain": [
       "[1, 2, 3, 4, (1, 2), {}]"
      ]
     },
     "execution_count": 45,
     "metadata": {},
     "output_type": "execute_result"
    }
   ],
   "source": [
    "a"
   ]
  },
  {
   "cell_type": "code",
   "execution_count": 46,
   "id": "b71feb77",
   "metadata": {},
   "outputs": [],
   "source": [
    "a.append('a')"
   ]
  },
  {
   "cell_type": "code",
   "execution_count": 47,
   "id": "4fb28558",
   "metadata": {},
   "outputs": [
    {
     "data": {
      "text/plain": [
       "[1, 2, 3, 4, (1, 2), {}, 'a']"
      ]
     },
     "execution_count": 47,
     "metadata": {},
     "output_type": "execute_result"
    }
   ],
   "source": [
    "a"
   ]
  },
  {
   "cell_type": "markdown",
   "id": "14609a22",
   "metadata": {},
   "source": [
    "#### 리스트에 요소 추가(insert), 리스트.insert(입력할index, 값) "
   ]
  },
  {
   "cell_type": "code",
   "execution_count": 48,
   "id": "814212c0",
   "metadata": {},
   "outputs": [],
   "source": [
    "a = [1, 2, 3]\n",
    "a.insert(2,'a')"
   ]
  },
  {
   "cell_type": "code",
   "execution_count": 49,
   "id": "889b3f6d",
   "metadata": {},
   "outputs": [
    {
     "data": {
      "text/plain": [
       "[1, 2, 'a', 3]"
      ]
     },
     "execution_count": 49,
     "metadata": {},
     "output_type": "execute_result"
    }
   ],
   "source": [
    "a"
   ]
  },
  {
   "cell_type": "markdown",
   "id": "4f8f1989",
   "metadata": {},
   "source": [
    "#### extend메소드: 리스트.extend(추가할 리스트)"
   ]
  },
  {
   "cell_type": "code",
   "execution_count": 50,
   "id": "0c129d77",
   "metadata": {},
   "outputs": [],
   "source": [
    "a = [1, 2, 3]\n",
    "a.extend([4,5])"
   ]
  },
  {
   "cell_type": "code",
   "execution_count": 51,
   "id": "16164caa",
   "metadata": {},
   "outputs": [
    {
     "data": {
      "text/plain": [
       "[1, 2, 3, 4, 5]"
      ]
     },
     "execution_count": 51,
     "metadata": {},
     "output_type": "execute_result"
    }
   ],
   "source": [
    "a"
   ]
  },
  {
   "cell_type": "markdown",
   "id": "6f739892",
   "metadata": {},
   "source": [
    "##### 집합"
   ]
  },
  {
   "cell_type": "code",
   "execution_count": 53,
   "id": "edef2e52",
   "metadata": {},
   "outputs": [
    {
     "data": {
      "text/plain": [
       "[1, 2]"
      ]
     },
     "execution_count": 53,
     "metadata": {},
     "output_type": "execute_result"
    }
   ],
   "source": [
    "a = {1,2}\n",
    "b = {1}\n",
    "list(a.union(b))"
   ]
  },
  {
   "cell_type": "markdown",
   "id": "3191e71b",
   "metadata": {},
   "source": [
    "### 리스트 정렬"
   ]
  },
  {
   "cell_type": "code",
   "execution_count": 54,
   "id": "e1e11cb7",
   "metadata": {},
   "outputs": [],
   "source": [
    "a = [100, 200, -2, 1, 2, 3, 4, 5, 6]\n",
    "a.sort()"
   ]
  },
  {
   "cell_type": "code",
   "execution_count": 55,
   "id": "03c30969",
   "metadata": {},
   "outputs": [
    {
     "data": {
      "text/plain": [
       "[-2, 1, 2, 3, 4, 5, 6, 100, 200]"
      ]
     },
     "execution_count": 55,
     "metadata": {},
     "output_type": "execute_result"
    }
   ],
   "source": [
    "a"
   ]
  },
  {
   "cell_type": "code",
   "execution_count": 57,
   "id": "4f80e242",
   "metadata": {},
   "outputs": [],
   "source": [
    "a = ['a', 'c', 'b']\n",
    "a.sort()"
   ]
  },
  {
   "cell_type": "code",
   "execution_count": 58,
   "id": "9cc822f8",
   "metadata": {},
   "outputs": [
    {
     "data": {
      "text/plain": [
       "['a', 'b', 'c']"
      ]
     },
     "execution_count": 58,
     "metadata": {},
     "output_type": "execute_result"
    }
   ],
   "source": [
    "a"
   ]
  },
  {
   "cell_type": "code",
   "execution_count": 64,
   "id": "98ca904f",
   "metadata": {},
   "outputs": [],
   "source": [
    "a = ['성','공','김','곰']\n",
    "a.sort()"
   ]
  },
  {
   "cell_type": "code",
   "execution_count": 66,
   "id": "4f2f3c04",
   "metadata": {},
   "outputs": [
    {
     "data": {
      "text/plain": [
       "['곰', '공', '김', '성']"
      ]
     },
     "execution_count": 66,
     "metadata": {},
     "output_type": "execute_result"
    }
   ],
   "source": [
    "a"
   ]
  },
  {
   "cell_type": "code",
   "execution_count": 67,
   "id": "6b4d67da",
   "metadata": {},
   "outputs": [],
   "source": [
    "a = ['성','공','김','곰','a']"
   ]
  },
  {
   "cell_type": "code",
   "execution_count": 68,
   "id": "b37511fc",
   "metadata": {},
   "outputs": [],
   "source": [
    "a.sort()"
   ]
  },
  {
   "cell_type": "code",
   "execution_count": 69,
   "id": "156bdba2",
   "metadata": {},
   "outputs": [
    {
     "data": {
      "text/plain": [
       "['a', '곰', '공', '김', '성']"
      ]
     },
     "execution_count": 69,
     "metadata": {},
     "output_type": "execute_result"
    }
   ],
   "source": [
    "a"
   ]
  },
  {
   "cell_type": "code",
   "execution_count": 71,
   "id": "10e7e4ea",
   "metadata": {},
   "outputs": [],
   "source": [
    "a.sort(reverse= 0)  #0 = False"
   ]
  },
  {
   "cell_type": "code",
   "execution_count": 72,
   "id": "a1069607",
   "metadata": {},
   "outputs": [
    {
     "data": {
      "text/plain": [
       "['a', '곰', '공', '김', '성']"
      ]
     },
     "execution_count": 72,
     "metadata": {},
     "output_type": "execute_result"
    }
   ],
   "source": [
    "a"
   ]
  },
  {
   "cell_type": "code",
   "execution_count": 75,
   "id": "fc2d4d0c",
   "metadata": {},
   "outputs": [
    {
     "ename": "TypeError",
     "evalue": "sort() takes no positional arguments",
     "output_type": "error",
     "traceback": [
      "\u001b[1;31m---------------------------------------------------------------------------\u001b[0m",
      "\u001b[1;31mTypeError\u001b[0m                                 Traceback (most recent call last)",
      "\u001b[1;32m<ipython-input-75-2cabca78d056>\u001b[0m in \u001b[0;36m<module>\u001b[1;34m\u001b[0m\n\u001b[1;32m----> 1\u001b[1;33m \u001b[0ma\u001b[0m\u001b[1;33m.\u001b[0m\u001b[0msort\u001b[0m\u001b[1;33m(\u001b[0m\u001b[1;36m1\u001b[0m\u001b[1;33m)\u001b[0m\u001b[1;33m\u001b[0m\u001b[1;33m\u001b[0m\u001b[0m\n\u001b[0m",
      "\u001b[1;31mTypeError\u001b[0m: sort() takes no positional arguments"
     ]
    }
   ],
   "source": [
    "a.sort(reverse= 1)  #역순정렬   0 제외 모든 수 = True"
   ]
  },
  {
   "cell_type": "code",
   "execution_count": 74,
   "id": "cba3a905",
   "metadata": {},
   "outputs": [
    {
     "data": {
      "text/plain": [
       "['성', '김', '공', '곰', 'a']"
      ]
     },
     "execution_count": 74,
     "metadata": {},
     "output_type": "execute_result"
    }
   ],
   "source": [
    "a"
   ]
  },
  {
   "cell_type": "markdown",
   "id": "80db36bb",
   "metadata": {},
   "source": [
    "#### 리스트 뒤집기(reverse)"
   ]
  },
  {
   "cell_type": "code",
   "execution_count": 76,
   "id": "3b120e9c",
   "metadata": {},
   "outputs": [
    {
     "data": {
      "text/plain": [
       "['b', 'c', 'a']"
      ]
     },
     "execution_count": 76,
     "metadata": {},
     "output_type": "execute_result"
    }
   ],
   "source": [
    "a = ['a', 'c', 'b']\n",
    "a.reverse()\n",
    "a"
   ]
  },
  {
   "cell_type": "markdown",
   "id": "57cfd90e",
   "metadata": {},
   "source": [
    "### 리스트에 포함된 요소 x의 개수 세기(count)"
   ]
  },
  {
   "cell_type": "code",
   "execution_count": 77,
   "id": "9d3a5c01",
   "metadata": {},
   "outputs": [
    {
     "data": {
      "text/plain": [
       "2"
      ]
     },
     "execution_count": 77,
     "metadata": {},
     "output_type": "execute_result"
    }
   ],
   "source": [
    "a = [1,2,3,1]\n",
    "a.count(1)"
   ]
  },
  {
   "cell_type": "code",
   "execution_count": 78,
   "id": "d0f87dd3",
   "metadata": {},
   "outputs": [],
   "source": [
    "a = (1,2,3,4) + (1,[1,2])"
   ]
  },
  {
   "cell_type": "code",
   "execution_count": 79,
   "id": "2c2dfff5",
   "metadata": {},
   "outputs": [
    {
     "data": {
      "text/plain": [
       "(1, 2, 3, 4, 1, [1, 2])"
      ]
     },
     "execution_count": 79,
     "metadata": {},
     "output_type": "execute_result"
    }
   ],
   "source": [
    "a"
   ]
  },
  {
   "cell_type": "code",
   "execution_count": 80,
   "id": "cbb4d4f9",
   "metadata": {},
   "outputs": [],
   "source": [
    "a[5][0] = 3  #이거는 리스트를 호출한 것이기 때문에, \n",
    "             #리스트 자체는 수정 가능하므로 바꿔지는것이다."
   ]
  },
  {
   "cell_type": "code",
   "execution_count": 81,
   "id": "906283d6",
   "metadata": {},
   "outputs": [
    {
     "data": {
      "text/plain": [
       "(1, 2, 3, 4, 1, [3, 2])"
      ]
     },
     "execution_count": 81,
     "metadata": {},
     "output_type": "execute_result"
    }
   ],
   "source": [
    "a"
   ]
  },
  {
   "cell_type": "code",
   "execution_count": 82,
   "id": "1566482e",
   "metadata": {},
   "outputs": [
    {
     "ename": "TypeError",
     "evalue": "'tuple' object does not support item assignment",
     "output_type": "error",
     "traceback": [
      "\u001b[1;31m---------------------------------------------------------------------------\u001b[0m",
      "\u001b[1;31mTypeError\u001b[0m                                 Traceback (most recent call last)",
      "\u001b[1;32m<ipython-input-82-318ce6714d4f>\u001b[0m in \u001b[0;36m<module>\u001b[1;34m\u001b[0m\n\u001b[1;32m----> 1\u001b[1;33m \u001b[0ma\u001b[0m\u001b[1;33m[\u001b[0m\u001b[1;36m5\u001b[0m\u001b[1;33m]\u001b[0m \u001b[1;33m=\u001b[0m\u001b[1;36m3\u001b[0m\u001b[1;33m\u001b[0m\u001b[1;33m\u001b[0m\u001b[0m\n\u001b[0m",
      "\u001b[1;31mTypeError\u001b[0m: 'tuple' object does not support item assignment"
     ]
    }
   ],
   "source": [
    "a[5] =3  # 튜플의 원소인 리스트 전체를 바꿀려고 하니 오류가 발생하게 된다."
   ]
  },
  {
   "cell_type": "code",
   "execution_count": null,
   "id": "ae5cc8cc",
   "metadata": {},
   "outputs": [],
   "source": []
  }
 ],
 "metadata": {
  "kernelspec": {
   "display_name": "Python 3",
   "language": "python",
   "name": "python3"
  },
  "language_info": {
   "codemirror_mode": {
    "name": "ipython",
    "version": 3
   },
   "file_extension": ".py",
   "mimetype": "text/x-python",
   "name": "python",
   "nbconvert_exporter": "python",
   "pygments_lexer": "ipython3",
   "version": "3.8.9"
  }
 },
 "nbformat": 4,
 "nbformat_minor": 5
}
